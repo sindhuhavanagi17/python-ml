{
  "nbformat": 4,
  "nbformat_minor": 0,
  "metadata": {
    "colab": {
      "provenance": []
    },
    "kernelspec": {
      "name": "python3",
      "display_name": "Python 3"
    },
    "language_info": {
      "name": "python"
    }
  },
  "cells": [
    {
      "cell_type": "code",
      "source": [
        "name=\"sindhu\"\n",
        "print(f\"my name is {name}\")\n"
      ],
      "metadata": {
        "colab": {
          "base_uri": "https://localhost:8080/"
        },
        "id": "B1nIpEut-SV7",
        "outputId": "ee6b23c8-dfd8-4ab9-d02f-58bace643544"
      },
      "execution_count": null,
      "outputs": [
        {
          "output_type": "stream",
          "name": "stdout",
          "text": [
            "my name is sindhu\n"
          ]
        }
      ]
    },
    {
      "cell_type": "markdown",
      "source": [
        "#Python Syntax & Structure\n",
        "\n",
        "\n",
        "#Basic Syntax rules"
      ],
      "metadata": {
        "id": "znhau9hRGguy"
      }
    },
    {
      "cell_type": "code",
      "source": [
        "print(\"Hello,World!\") # Function call\n",
        "x = 5 # variable Assignment\n",
        "y=10 # To need to declare type"
      ],
      "metadata": {
        "colab": {
          "base_uri": "https://localhost:8080/"
        },
        "id": "zSbG9qKCGEXh",
        "outputId": "3be8a2d1-15df-4d54-8744-f38bc00ff54a"
      },
      "execution_count": null,
      "outputs": [
        {
          "output_type": "stream",
          "name": "stdout",
          "text": [
            "Hello,World!\n"
          ]
        }
      ]
    },
    {
      "cell_type": "markdown",
      "source": [
        "#Python is case-sensitive\n"
      ],
      "metadata": {
        "id": "nuUGSUZoHEqa"
      }
    },
    {
      "cell_type": "code",
      "source": [
        "Name=\"sindhu\"\n",
        "name=\"sindu\"\n",
        "print(Name,name)# Different variables"
      ],
      "metadata": {
        "colab": {
          "base_uri": "https://localhost:8080/"
        },
        "id": "O45ICvwkHQbC",
        "outputId": "755e52eb-4b63-40ad-b326-7317957ecc37"
      },
      "execution_count": null,
      "outputs": [
        {
          "output_type": "stream",
          "name": "stdout",
          "text": [
            "sindhu sindu\n"
          ]
        }
      ]
    },
    {
      "cell_type": "markdown",
      "source": [
        "#Indentation matters"
      ],
      "metadata": {
        "id": "_j69TiqKIV2C"
      }
    },
    {
      "cell_type": "code",
      "source": [
        "if x > 0:\n",
        "  print(\"x is positive\") # 4 spaces indentation\n",
        "  print(\"This is inside the if block\")"
      ],
      "metadata": {
        "colab": {
          "base_uri": "https://localhost:8080/"
        },
        "id": "sBY2sgTdIbRJ",
        "outputId": "06e5e916-fc34-4f57-b430-d905cd44172f"
      },
      "execution_count": null,
      "outputs": [
        {
          "output_type": "stream",
          "name": "stdout",
          "text": [
            "x is positive\n",
            "This is inside the if block\n"
          ]
        }
      ]
    },
    {
      "cell_type": "markdown",
      "source": [
        "##Varibles & Data Types"
      ],
      "metadata": {
        "id": "6Zj53mvEI-0R"
      }
    },
    {
      "cell_type": "markdown",
      "source": [
        "#Numeric Types\n"
      ],
      "metadata": {
        "id": "9zU6-YedJhQR"
      }
    },
    {
      "cell_type": "code",
      "source": [
        "age = 25 # int\n",
        "height = 5.9 # float\n",
        "complex_num = 3 + 4j # complex\n"
      ],
      "metadata": {
        "id": "vYxjIoc2JlMR"
      },
      "execution_count": null,
      "outputs": []
    },
    {
      "cell_type": "markdown",
      "source": [
        "#String Type:"
      ],
      "metadata": {
        "id": "u-adzndKKZoq"
      }
    },
    {
      "cell_type": "code",
      "source": [
        "name = \"Alice\"\n",
        "message= 'Hello World'\n",
        "multiline = \"\"\"This is a Multiline string\"\"\"\n"
      ],
      "metadata": {
        "id": "4ZGOoD0iKcn7"
      },
      "execution_count": null,
      "outputs": []
    },
    {
      "cell_type": "markdown",
      "source": [
        "#Boolean Type\n"
      ],
      "metadata": {
        "id": "AqfI9sAhNWZi"
      }
    },
    {
      "cell_type": "code",
      "source": [
        "is_active = True\n",
        "is_finished = False"
      ],
      "metadata": {
        "id": "IC4CHhYjNb-R"
      },
      "execution_count": null,
      "outputs": []
    },
    {
      "cell_type": "markdown",
      "source": [
        "#Type Checking\n"
      ],
      "metadata": {
        "id": "E9I0MMTlNkV5"
      }
    },
    {
      "cell_type": "code",
      "source": [
        "print(type(age))# <class 'int'>\n",
        "print(type(height))# <class 'float'>\n",
        "print(type(name))# <class 'str'>"
      ],
      "metadata": {
        "colab": {
          "base_uri": "https://localhost:8080/"
        },
        "id": "Kgc1GwMxNn-p",
        "outputId": "06101318-deac-42a2-9ad3-5f92ac24b650"
      },
      "execution_count": null,
      "outputs": [
        {
          "output_type": "stream",
          "name": "stdout",
          "text": [
            "<class 'int'>\n",
            "<class 'float'>\n",
            "<class 'str'>\n"
          ]
        }
      ]
    },
    {
      "cell_type": "code",
      "source": [
        "type(age)\n"
      ],
      "metadata": {
        "colab": {
          "base_uri": "https://localhost:8080/"
        },
        "id": "V38QXKcpOI-A",
        "outputId": "4c63dd65-a310-4b03-b9bf-5bb05eae34dd"
      },
      "execution_count": null,
      "outputs": [
        {
          "output_type": "execute_result",
          "data": {
            "text/plain": [
              "int"
            ]
          },
          "metadata": {},
          "execution_count": 16
        }
      ]
    },
    {
      "cell_type": "markdown",
      "source": [
        "#Type Conversion\n"
      ],
      "metadata": {
        "id": "5mb4mGnAOM5o"
      }
    },
    {
      "cell_type": "code",
      "source": [
        "str_number = \"123\"\n",
        "int_number = int(str_number)\n",
        "float_number = float(str_number)\n",
        "\n",
        "\n",
        "print(f\"Original: {str_number} (type: {type(str_number)})\")\n",
        "print(f\"Integer: {int_number} (type: {type(int_number)})\")\n",
        "print(f\"float: {float_number} (type: {type(float_number)})\")"
      ],
      "metadata": {
        "colab": {
          "base_uri": "https://localhost:8080/"
        },
        "id": "vaRYBvJqORrR",
        "outputId": "f8d9eb4e-38b8-4788-fdbf-7b1798eb5354"
      },
      "execution_count": null,
      "outputs": [
        {
          "output_type": "stream",
          "name": "stdout",
          "text": [
            "Original: 123 (type: <class 'str'>)\n",
            "Integer: 123 (type: <class 'int'>)\n",
            "float: 123.0 (type: <class 'float'>)\n"
          ]
        }
      ]
    },
    {
      "cell_type": "markdown",
      "source": [
        "#Hands-on Exercise:"
      ],
      "metadata": {
        "id": "xhtN0VcJfBfr"
      }
    },
    {
      "cell_type": "markdown",
      "source": [
        "#Exercise 1: Personal I nformation"
      ],
      "metadata": {
        "id": "e570_dl7f9pC"
      }
    },
    {
      "cell_type": "markdown",
      "source": [
        "#Create variables for personal information"
      ],
      "metadata": {
        "id": "lsqSEQ9cgRFa"
      }
    },
    {
      "cell_type": "code",
      "source": [
        "first_name =\"Sindhu\"\n",
        "last_name =\"Havanagi\"\n",
        "age=19\n",
        "height=4.11\n",
        "is_student=True"
      ],
      "metadata": {
        "id": "gxSneSPXgqaK"
      },
      "execution_count": null,
      "outputs": []
    },
    {
      "cell_type": "markdown",
      "source": [
        "#Print formatted information"
      ],
      "metadata": {
        "id": "Sizv_zTdiZ06"
      }
    },
    {
      "cell_type": "code",
      "source": [
        "print(f\"Name: {first_name} {last_name}\")\n",
        "print(f\"Age: {age}\")\n",
        "print(f\"Height: {height} feet\")\n",
        "print(f\"Student: {is_student}\")"
      ],
      "metadata": {
        "colab": {
          "base_uri": "https://localhost:8080/"
        },
        "id": "aID6FGApieBS",
        "outputId": "6bd75fba-de21-4b4c-f92a-0cb6e57671e2"
      },
      "execution_count": null,
      "outputs": [
        {
          "output_type": "stream",
          "name": "stdout",
          "text": [
            "Name: Sindhu Havanagi\n",
            "Age: 19\n",
            "Height: 4.11 feet\n",
            "Student: True\n"
          ]
        }
      ]
    },
    {
      "cell_type": "markdown",
      "source": [
        "#Type conversions"
      ],
      "metadata": {
        "id": "FzXFxSU5j2-K"
      }
    },
    {
      "cell_type": "code",
      "source": [
        "age_str=str(age)\n",
        "height_int=int(height)\n",
        "print(f\"Age as string: {age_str}\")\n",
        "print(f\"Height as integer: {height_int}\")"
      ],
      "metadata": {
        "colab": {
          "base_uri": "https://localhost:8080/"
        },
        "id": "yIFOuNUTj8OK",
        "outputId": "8b0f107a-2474-4ae5-a1c6-910efab016e1"
      },
      "execution_count": null,
      "outputs": [
        {
          "output_type": "stream",
          "name": "stdout",
          "text": [
            "Age as string: 19\n",
            "Height as integer: 4\n"
          ]
        }
      ]
    },
    {
      "cell_type": "markdown",
      "source": [
        "#Operators & Basic Operation"
      ],
      "metadata": {
        "id": "pAMWmlqmkfza"
      }
    },
    {
      "cell_type": "markdown",
      "source": [
        "#Arithmetic Operators"
      ],
      "metadata": {
        "id": "vygeTaV3mHZx"
      }
    },
    {
      "cell_type": "code",
      "source": [
        "a=10\n",
        "b=3\n",
        "\n",
        "print(\"Addition:\",(a+b))\n",
        "print(\"Subtraction:\",(a-b))\n",
        "print(\"Multiplication:\",(a*b))\n",
        "print(\"Division:\",(a/b))\n",
        "print(\"Floor Division:\",(a//b))\n",
        "print(\"Modulus:\",(a%b))\n",
        "print(\"Exponentiation:\",(a**b))"
      ],
      "metadata": {
        "colab": {
          "base_uri": "https://localhost:8080/"
        },
        "id": "to95fhMkmQpx",
        "outputId": "a43b36f0-f4d3-4653-b422-5fcb3122b478"
      },
      "execution_count": null,
      "outputs": [
        {
          "output_type": "stream",
          "name": "stdout",
          "text": [
            "Addition: 13\n",
            "Subtraction: 7\n",
            "Multiplication: 30\n",
            "Division: 3.3333333333333335\n",
            "Floor Division: 3\n",
            "Modulus: 1\n",
            "Exponentiation: 1000\n"
          ]
        }
      ]
    },
    {
      "cell_type": "markdown",
      "source": [
        "\n",
        "\n",
        "*  P-Parentheses\n",
        "\n",
        "*  E-Exponents\n",
        "\n",
        "*   M-Multiplication\n",
        "*   D-Divsion\n",
        "\n",
        "\n",
        "*   A-Addition\n",
        "\n",
        "\n",
        "*   S-Subtraction\n",
        "\n"
      ],
      "metadata": {
        "id": "LwOLiwK8p2zp"
      }
    },
    {
      "cell_type": "code",
      "source": [
        "result=2+3*4**2-1\n",
        "print(f\"2+3*4**2-1={result}\")"
      ],
      "metadata": {
        "colab": {
          "base_uri": "https://localhost:8080/"
        },
        "id": "yEg4FQCCplsa",
        "outputId": "b386c3f5-fefc-45ca-89f9-dbeaa0cc3945"
      },
      "execution_count": null,
      "outputs": [
        {
          "output_type": "stream",
          "name": "stdout",
          "text": [
            "2+3*4**2-1=49\n"
          ]
        }
      ]
    },
    {
      "cell_type": "markdown",
      "source": [
        "#Relational/comparison operators"
      ],
      "metadata": {
        "id": "ajC5c-eas6wo"
      }
    },
    {
      "cell_type": "code",
      "source": [
        "x=10\n",
        "y=20\n",
        "\n",
        "\n",
        "print(f\"{x}=={y}:{x==y}\")\n",
        "print(f\"{x}!={y}:{x==y}\")\n",
        "print(f\"{x}<{y}:{x==y}\")\n",
        "print(f\"{x}>{y}:{x==y}\")\n",
        "print(f\"{x}<={y}:{x==y}\")\n",
        "print(f\"{x}>={y}:{x==y}\")\n"
      ],
      "metadata": {
        "colab": {
          "base_uri": "https://localhost:8080/"
        },
        "id": "b-9U1cDxoJqi",
        "outputId": "d262a0f4-929b-44fd-8a03-d8e409edd8ff"
      },
      "execution_count": null,
      "outputs": [
        {
          "output_type": "stream",
          "name": "stdout",
          "text": [
            "10==20:False\n",
            "10!=20:False\n",
            "10<20:False\n",
            "10>20:False\n",
            "10<=20:False\n",
            "10>=20:False\n"
          ]
        }
      ]
    },
    {
      "cell_type": "markdown",
      "source": [
        "#String comparsion"
      ],
      "metadata": {
        "id": "BBCPnDvyub2w"
      }
    },
    {
      "cell_type": "code",
      "source": [
        "name1=\"Alice\"\n",
        "name2=\"Bob\"\n",
        "print(f\"'{name1}'<'{name2}':{name1 < name2}\")"
      ],
      "metadata": {
        "colab": {
          "base_uri": "https://localhost:8080/"
        },
        "id": "XMhomDO5uahy",
        "outputId": "730bc2db-1439-4170-ad1b-f07ad907c1a7"
      },
      "execution_count": null,
      "outputs": [
        {
          "output_type": "stream",
          "name": "stdout",
          "text": [
            "'Alice'<'Bob':True\n"
          ]
        }
      ]
    },
    {
      "cell_type": "markdown",
      "source": [
        "#Logical operators"
      ],
      "metadata": {
        "id": "UI521JZ0vZt6"
      }
    },
    {
      "cell_type": "code",
      "source": [
        "p=True\n",
        "q=False\n",
        "\n",
        "print(f\"p and q:{p and q}\")\n",
        "print(f\"p or q:{p or q}\")\n",
        "print(f\"p not p:{ not p}\")"
      ],
      "metadata": {
        "colab": {
          "base_uri": "https://localhost:8080/"
        },
        "id": "xmZ9qvOwvgKZ",
        "outputId": "068fcaef-8b48-45bd-bcf4-335f47457b35"
      },
      "execution_count": null,
      "outputs": [
        {
          "output_type": "stream",
          "name": "stdout",
          "text": [
            "p and q:False\n",
            "p or q:True\n",
            "p not p:False\n"
          ]
        }
      ]
    },
    {
      "cell_type": "code",
      "source": [
        "# Practical example\n",
        "age=20\n",
        "has_license=True\n",
        "can_drive=age >= 18 and has_license\n",
        "print(f\"can drive:{can_drive}\")"
      ],
      "metadata": {
        "colab": {
          "base_uri": "https://localhost:8080/"
        },
        "id": "7aei0BURwtaY",
        "outputId": "0a1ff95e-ed8c-44b2-dc76-99c176c0ae11"
      },
      "execution_count": null,
      "outputs": [
        {
          "output_type": "stream",
          "name": "stdout",
          "text": [
            "can drive:True\n"
          ]
        }
      ]
    },
    {
      "cell_type": "code",
      "source": [
        "# Multiple conditions\n",
        "score=85\n",
        "is_present=True\n",
        "can_pass=score >= 80 and is_present\n",
        "print(f\"can pass: {can_pass}\")"
      ],
      "metadata": {
        "colab": {
          "base_uri": "https://localhost:8080/"
        },
        "id": "k4wyZxeoxMyg",
        "outputId": "8f81f3b1-1f03-4feb-c6a5-c4cff54bfc07"
      },
      "execution_count": null,
      "outputs": [
        {
          "output_type": "stream",
          "name": "stdout",
          "text": [
            "can pass: True\n"
          ]
        }
      ]
    },
    {
      "cell_type": "markdown",
      "source": [
        "#Hands-on Exercise\n",
        "\n",
        "#Exercise 2:Simple Calculator\n",
        "\n",
        "#create a calculator that checks if a person qualifies for a loan"
      ],
      "metadata": {
        "id": "PgSulF3SxljQ"
      }
    },
    {
      "cell_type": "code",
      "source": [
        "# Personal information\n",
        "age=25\n",
        "annual_income=50000\n",
        "credit_score=720\n",
        "has_collateral=True"
      ],
      "metadata": {
        "id": "eIUeBfP3zVh5"
      },
      "execution_count": null,
      "outputs": []
    },
    {
      "cell_type": "code",
      "source": [
        "# Loan criteria\n",
        "min_age=18\n",
        "min_income=30000\n",
        "min_credit_score=650"
      ],
      "metadata": {
        "id": "rlJIcGXCxqA4"
      },
      "execution_count": null,
      "outputs": []
    },
    {
      "cell_type": "code",
      "source": [
        "# check qualifications\n",
        "age_qualified=age >= min_age\n",
        "income_qualified=annual_income >= min_income\n",
        "credit_qualified=credit_score >= min_credit_score\n",
        "overall_qualified=age_qualified and income_qualified and credit_qualified"
      ],
      "metadata": {
        "id": "onPBunPW1lJX"
      },
      "execution_count": null,
      "outputs": []
    },
    {
      "cell_type": "markdown",
      "source": [
        "#Data Structure\n",
        "\n"
      ],
      "metadata": {
        "id": "KU_6STLG-3Ww"
      }
    },
    {
      "cell_type": "markdown",
      "source": [
        "#Lists"
      ],
      "metadata": {
        "id": "cc1S168V-7sY"
      }
    },
    {
      "cell_type": "markdown",
      "source": [
        "#Creating lists"
      ],
      "metadata": {
        "id": "WNK_tLZt-_Y_"
      }
    },
    {
      "cell_type": "code",
      "source": [
        "fruits=[\"apple\",\"banana\",\"orange\",\"grapes\"]\n",
        "numbers=[10,20,30,40,50]\n",
        "mixed_data=[1,\"Hello\",3.14,True]"
      ],
      "metadata": {
        "id": "LtlOv-V8_De_"
      },
      "execution_count": null,
      "outputs": []
    },
    {
      "cell_type": "markdown",
      "source": [
        "#List indexing(0-based)\n"
      ],
      "metadata": {
        "id": "-6t0bK55_fYn"
      }
    },
    {
      "cell_type": "code",
      "source": [
        "print(f\"First fruit:{fruits[0]}\")\n",
        "print(f\"Last fruit:{fruits[-1]}\")\n",
        "print(f\"Second to last:{fruits[-2]}\")\n"
      ],
      "metadata": {
        "colab": {
          "base_uri": "https://localhost:8080/"
        },
        "id": "KAorHOBU_k5X",
        "outputId": "a104da8e-1d19-4c66-845d-92cca51c18f7"
      },
      "execution_count": null,
      "outputs": [
        {
          "output_type": "stream",
          "name": "stdout",
          "text": [
            "First fruit:apple\n",
            "Last fruit:grapes\n",
            "Second to last:orange\n"
          ]
        }
      ]
    },
    {
      "cell_type": "markdown",
      "source": [
        "#List slicing\n",
        "\n"
      ],
      "metadata": {
        "id": "nrnaDjcJAAqG"
      }
    },
    {
      "cell_type": "code",
      "source": [
        "print(f\"First 2 fruits:{fruits[0:2]}\")\n",
        "print(f\"First 2 fruits:{fruits[-2:]}\")\n",
        "print(f\"All execpt first:{fruits[1:]}\")\n"
      ],
      "metadata": {
        "colab": {
          "base_uri": "https://localhost:8080/"
        },
        "id": "qLV50Jwg_92p",
        "outputId": "9d3a7204-4575-45be-db94-dab35077ee71"
      },
      "execution_count": null,
      "outputs": [
        {
          "output_type": "stream",
          "name": "stdout",
          "text": [
            "First 2 fruits:['apple', 'banana']\n",
            "First 2 fruits:['orange', 'grapes']\n",
            "All execpt first:['banana', 'orange', 'grapes']\n"
          ]
        }
      ]
    },
    {
      "cell_type": "markdown",
      "source": [
        "#List methods\n"
      ],
      "metadata": {
        "id": "uuzIxk3XAulf"
      }
    },
    {
      "cell_type": "code",
      "source": [
        "fruits.append(\"kiwi\")\n",
        "fruits.insert(1,\"strawberry\")\n",
        "removed=fruits.pop()\n",
        "print(f\"Updated list:{fruits}\")\n",
        "print(f\"Removed:{removed}\")"
      ],
      "metadata": {
        "colab": {
          "base_uri": "https://localhost:8080/"
        },
        "id": "pCGqDu3TAx5f",
        "outputId": "71f1f6c5-fe05-4896-af9a-8a6ae2c3adc5"
      },
      "execution_count": null,
      "outputs": [
        {
          "output_type": "stream",
          "name": "stdout",
          "text": [
            "Updated list:['apple', 'strawberry', 'banana', 'orange', 'grapes']\n",
            "Removed:kiwi\n"
          ]
        }
      ]
    },
    {
      "cell_type": "markdown",
      "source": [
        "#List operations"
      ],
      "metadata": {
        "id": "0bj0GLLNBX1F"
      }
    },
    {
      "cell_type": "code",
      "source": [
        "print(f\"Length: {len(fruits)}\")\n",
        "print(f\"contains 'appl':{'apple'in fruits}\")\n",
        "print(f\"Index of 'banana':{fruits.index('banana')}\")"
      ],
      "metadata": {
        "colab": {
          "base_uri": "https://localhost:8080/"
        },
        "id": "6XCamYQrCFrm",
        "outputId": "37e272aa-317e-4125-824d-0d2e87254d67"
      },
      "execution_count": null,
      "outputs": [
        {
          "output_type": "stream",
          "name": "stdout",
          "text": [
            "Length: 5\n",
            "contains 'appl':True\n",
            "Index of 'banana':2\n"
          ]
        }
      ]
    },
    {
      "cell_type": "markdown",
      "source": [
        "#Tuples"
      ],
      "metadata": {
        "id": "FuqqkpVR-Yuj"
      }
    },
    {
      "cell_type": "markdown",
      "source": [
        "#Tuples are immutable"
      ],
      "metadata": {
        "id": "eorJWUy1DNI_"
      }
    },
    {
      "cell_type": "code",
      "source": [
        "coordinates=(10,20)\n",
        "rgb_color=(255,128,0)\n",
        "person_info=(\"Alice\",25,\"Engineer\",True)"
      ],
      "metadata": {
        "id": "UV-PIYaWDQoP"
      },
      "execution_count": null,
      "outputs": []
    },
    {
      "cell_type": "markdown",
      "source": [
        "#Tuple unpacking"
      ],
      "metadata": {
        "id": "i8owz8EAD3iv"
      }
    },
    {
      "cell_type": "code",
      "source": [
        "x,y=coordinates\n",
        "print(f\"x:{x},y:{y}\")"
      ],
      "metadata": {
        "colab": {
          "base_uri": "https://localhost:8080/"
        },
        "id": "uJGs04dPFCMu",
        "outputId": "c3aa7cce-da10-416b-da46-929f0ed1af94"
      },
      "execution_count": null,
      "outputs": [
        {
          "output_type": "stream",
          "name": "stdout",
          "text": [
            "x:10,y:20\n"
          ]
        }
      ]
    },
    {
      "cell_type": "markdown",
      "source": [
        "#Tuples methods\n"
      ],
      "metadata": {
        "id": "8RO6g8luFOwF"
      }
    },
    {
      "cell_type": "code",
      "source": [
        "print(f\"Count of 25:{person_info.count(25)}\")\n",
        "print(f\"Index of 'Engineer':{person_info.index('Engineer')}\")"
      ],
      "metadata": {
        "colab": {
          "base_uri": "https://localhost:8080/"
        },
        "id": "lJzvVx-EFVQO",
        "outputId": "5fd49ac9-d4c6-4f0f-c051-424a2aacc7f3"
      },
      "execution_count": null,
      "outputs": [
        {
          "output_type": "stream",
          "name": "stdout",
          "text": [
            "Count of 25:1\n",
            "Index of 'Engineer':2\n"
          ]
        }
      ]
    }
  ]
}