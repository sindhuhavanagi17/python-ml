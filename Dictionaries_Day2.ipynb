{
  "nbformat": 4,
  "nbformat_minor": 0,
  "metadata": {
    "colab": {
      "provenance": []
    },
    "kernelspec": {
      "name": "python3",
      "display_name": "Python 3"
    },
    "language_info": {
      "name": "python"
    }
  },
  "cells": [
    {
      "cell_type": "markdown",
      "source": [],
      "metadata": {
        "id": "ksCWCrM_9p6B"
      }
    },
    {
      "cell_type": "markdown",
      "source": [
        "#Dictionaries"
      ],
      "metadata": {
        "id": "BH1eNClH9mYx"
      }
    },
    {
      "cell_type": "markdown",
      "source": [
        "#Dictionary creation\n",
        "\n"
      ],
      "metadata": {
        "id": "R6iDluGN9vBh"
      }
    },
    {
      "cell_type": "code",
      "source": [
        "person={\n",
        "\"name\":\"Alice Johnson\",\n",
        "\"age\":23,\n",
        "\"profession\":\"Software Engineer\",\n",
        "\"salary\":75000,\n",
        "\"skills\":[\"Python\",\"Javascript\",\"SQL\"]\n",
        "}"
      ],
      "metadata": {
        "id": "P4OXdQk-EZsE"
      },
      "execution_count": null,
      "outputs": []
    },
    {
      "cell_type": "markdown",
      "source": [
        "#Acessing values"
      ],
      "metadata": {
        "id": "CTC4NWoLFmKt"
      }
    },
    {
      "cell_type": "code",
      "source": [
        "print(f\"Name:{person['name']}\")\n",
        "print(f\"Age:{person.get('age','Unknown')}\")"
      ],
      "metadata": {
        "colab": {
          "base_uri": "https://localhost:8080/"
        },
        "id": "EPGaMRu5Fsd7",
        "outputId": "3ddfde04-79bb-491f-e6ac-a5a57a258851"
      },
      "execution_count": null,
      "outputs": [
        {
          "output_type": "stream",
          "name": "stdout",
          "text": [
            "Name:Alice Johnson\n",
            "Age:23\n"
          ]
        }
      ]
    },
    {
      "cell_type": "markdown",
      "source": [
        "#Dictionary methods"
      ],
      "metadata": {
        "id": "dqskoA0mGF-8"
      }
    },
    {
      "cell_type": "code",
      "source": [
        "print(f\"keys:(list(person.keys()))\")\n",
        "print(f\"values:(list(person.values()))\")\n",
        "print(f\"items:(list(person.items()))\")\n",
        "\n"
      ],
      "metadata": {
        "colab": {
          "base_uri": "https://localhost:8080/"
        },
        "id": "WGSxyNv7GI_D",
        "outputId": "33b489fb-19e5-435a-f5da-d8b5c10cb697"
      },
      "execution_count": null,
      "outputs": [
        {
          "output_type": "stream",
          "name": "stdout",
          "text": [
            "keys:(list(person.keys()))\n",
            "values:(list(person.values()))\n",
            "items:(list(person.items()))\n"
          ]
        }
      ]
    },
    {
      "cell_type": "markdown",
      "source": [
        "#Adding/updating"
      ],
      "metadata": {
        "id": "OnX0L5RQI62z"
      }
    },
    {
      "cell_type": "code",
      "source": [
        "person[\"location\"]=\"New york\"\n",
        "person[\"salary\"]=8000"
      ],
      "metadata": {
        "id": "yVTdSjpSG_ks"
      },
      "execution_count": null,
      "outputs": []
    },
    {
      "cell_type": "markdown",
      "source": [
        "#pratical use case:Inventory management\n"
      ],
      "metadata": {
        "id": "qGBm-48mHEZE"
      }
    },
    {
      "cell_type": "code",
      "source": [
        "inventory={\n",
        "    \"laptops\":{\n",
        "        \"quantity\":50,\n",
        "        \"price\":999.99\n",
        "    },\n",
        "    \"phones\":{\n",
        "        \"quantity\":100,\n",
        "        \"price\":599.99\n",
        "    },\n",
        "    \"tablets\":{\n",
        "       \"quantity\":30,\n",
        "       \"price\":399.99\n",
        "\n",
        "    },\n",
        "\n",
        "}"
      ],
      "metadata": {
        "id": "BrBmhQXLHUu1"
      },
      "execution_count": null,
      "outputs": []
    },
    {
      "cell_type": "markdown",
      "source": [
        "#Nested access"
      ],
      "metadata": {
        "id": "g4PShwh_IGeN"
      }
    },
    {
      "cell_type": "code",
      "source": [
        "print(f\"Laptop price:${inventory['laptops']['price']}\")"
      ],
      "metadata": {
        "colab": {
          "base_uri": "https://localhost:8080/"
        },
        "id": "y6dquhIAII_j",
        "outputId": "12d4a769-c97c-41bf-d230-21d2f2b426b5"
      },
      "execution_count": null,
      "outputs": [
        {
          "output_type": "stream",
          "name": "stdout",
          "text": [
            "Laptop price:$999.99\n"
          ]
        }
      ]
    },
    {
      "cell_type": "markdown",
      "source": [
        "#Sets"
      ],
      "metadata": {
        "id": "ZxTtzoj2Jh0M"
      }
    },
    {
      "cell_type": "markdown",
      "source": [
        "#Sets contain unique elements"
      ],
      "metadata": {
        "id": "LNDgdgMdJjMT"
      }
    },
    {
      "cell_type": "code",
      "source": [
        "colors={\"red\",\"green\",\"blue\",\"red\"}\n",
        "print(f\"Colors:{colors}\")"
      ],
      "metadata": {
        "colab": {
          "base_uri": "https://localhost:8080/"
        },
        "id": "HFVHezZ4Jn88",
        "outputId": "87441eb2-7bdf-422b-ec10-c647814d7b20"
      },
      "execution_count": null,
      "outputs": [
        {
          "output_type": "stream",
          "name": "stdout",
          "text": [
            "Colors:{'red', 'green', 'blue'}\n"
          ]
        }
      ]
    },
    {
      "cell_type": "markdown",
      "source": [
        "#Set operations"
      ],
      "metadata": {
        "id": "ouxoEYzwJ0y0"
      }
    },
    {
      "cell_type": "code",
      "source": [
        "team1_skills={\"Python\",\"Javascript\",\"SQL\",\"React\"}\n",
        "team2_skills=(\"Javascripts\",\"SQL\",\"Java\",\"Spring\")"
      ],
      "metadata": {
        "id": "vrArUggeJ4qb"
      },
      "execution_count": null,
      "outputs": []
    },
    {
      "cell_type": "markdown",
      "source": [
        "#common operations"
      ],
      "metadata": {
        "id": "T7YsPUFNKX_k"
      }
    },
    {
      "cell_type": "code",
      "source": [
        "print(f\"Common skills:{team1_skills.intersection(team2_skills)}\")\n",
        "print(f\"All skills:{team1_skills.union(team2_skills)}\")\n",
        "print(f\"Team1 only:{team1_skills.difference(team2_skills)}\")"
      ],
      "metadata": {
        "colab": {
          "base_uri": "https://localhost:8080/"
        },
        "id": "hx0IV8fBKcc7",
        "outputId": "c5d648ba-74dd-4bf5-a9ab-3bbaeebb509a"
      },
      "execution_count": null,
      "outputs": [
        {
          "output_type": "stream",
          "name": "stdout",
          "text": [
            "Common skills:{'SQL'}\n",
            "All skills:{'Javascripts', 'SQL', 'Javascript', 'Java', 'Spring', 'React', 'Python'}\n",
            "Team1 only:{'Javascript', 'React', 'Python'}\n"
          ]
        }
      ]
    },
    {
      "cell_type": "markdown",
      "source": [
        "#Adding to sets"
      ],
      "metadata": {
        "id": "673Q6TBZLTSE"
      }
    },
    {
      "cell_type": "code",
      "source": [
        "colors.add(\"yellow\")\n",
        "colors.update([\"purple\",\"orange\"])\n",
        "print(f\"Updated colors:{colors}\")"
      ],
      "metadata": {
        "colab": {
          "base_uri": "https://localhost:8080/"
        },
        "id": "dJbgtfOVLV30",
        "outputId": "05586ac6-d9d9-411b-de15-d990a8c6fff3"
      },
      "execution_count": null,
      "outputs": [
        {
          "output_type": "stream",
          "name": "stdout",
          "text": [
            "Updated colors:{'green', 'blue', 'yellow', 'red', 'purple', 'orange'}\n"
          ]
        }
      ]
    },
    {
      "cell_type": "markdown",
      "source": [
        "#Control Flow"
      ],
      "metadata": {
        "id": "0Rktvqf1L1qu"
      }
    },
    {
      "cell_type": "markdown",
      "source": [
        "#Conditional Statements"
      ],
      "metadata": {
        "id": "-FF2ZUApNOlr"
      }
    },
    {
      "cell_type": "code",
      "source": [
        "def get_grade_letter(score):\n",
        "  if score>=90:\n",
        "    return \"A\"\n",
        "  elif score>=80:\n",
        "    return \"B\"\n",
        "  elif score>=70:\n",
        "    return \"C\"\n",
        "  elif score>=60:\n",
        "    return \"D\"\n",
        "  else:\n",
        "    return \"F\""
      ],
      "metadata": {
        "id": "_S7iT7HZMIfz"
      },
      "execution_count": null,
      "outputs": []
    },
    {
      "cell_type": "markdown",
      "source": [
        "#Test the function"
      ],
      "metadata": {
        "id": "JyZ4p119QSr9"
      }
    },
    {
      "cell_type": "code",
      "source": [
        "test_scores=[95,83,72,65.58]\n",
        "for score in test_scores:\n",
        "  grade=get_grade_letter(score)\n",
        "  print(f\"scor{score}:Grade {grade}\")"
      ],
      "metadata": {
        "colab": {
          "base_uri": "https://localhost:8080/"
        },
        "id": "lrl0jIufQXyj",
        "outputId": "e5e35cd2-22bb-4ea0-b45a-6d7bd0a1171c"
      },
      "execution_count": null,
      "outputs": [
        {
          "output_type": "stream",
          "name": "stdout",
          "text": [
            "scor95:Grade A\n",
            "scor83:Grade B\n",
            "scor72:Grade C\n",
            "scor65.58:Grade D\n"
          ]
        }
      ]
    },
    {
      "cell_type": "markdown",
      "source": [
        "#Nested conditions"
      ],
      "metadata": {
        "id": "llUS7oA6Q2E7"
      }
    },
    {
      "cell_type": "code",
      "source": [
        "def get_shipping_cost(weight,distance):\n",
        "  base_cost=5.0\n",
        "\n",
        "  if weight<=1:\n",
        "    weight_cost=2.0\n",
        "  elif weight<=5:\n",
        "    weight_cost=5.0\n",
        "  else:\n",
        "    weight_cost=10.0\n",
        "\n",
        "  if distance<=100:\n",
        "    distance_cost=1.0\n",
        "  elif distance<=500:\n",
        "    distance_cost=3.0\n",
        "  else:\n",
        "    distance_cost=7.0\n",
        "  return base_cost+weight_cost+distance_cost"
      ],
      "metadata": {
        "id": "PnIckOhJQ5W8"
      },
      "execution_count": null,
      "outputs": []
    },
    {
      "cell_type": "markdown",
      "source": [
        "#Test shipping costs"
      ],
      "metadata": {
        "id": "O_iHRFMUSUtS"
      }
    },
    {
      "cell_type": "code",
      "source": [
        "print(f\"Light,close:${get_shipping_cost(0.5,50)}\")\n",
        "print(f\"Heavy,far:${get_shipping_cost(10,800)}\")"
      ],
      "metadata": {
        "colab": {
          "base_uri": "https://localhost:8080/"
        },
        "id": "AEfxMhl9SOQi",
        "outputId": "0b56c718-8a24-49bf-c55c-d7fbc37e1635"
      },
      "execution_count": null,
      "outputs": [
        {
          "output_type": "stream",
          "name": "stdout",
          "text": [
            "Light,close:$8.0\n",
            "Heavy,far:$22.0\n"
          ]
        }
      ]
    },
    {
      "cell_type": "markdown",
      "source": [
        "#Loops-For Loop"
      ],
      "metadata": {
        "id": "R1MoGISETacU"
      }
    },
    {
      "cell_type": "markdown",
      "source": [
        "#Basic for loop"
      ],
      "metadata": {
        "id": "9NNvCd2PUSdc"
      }
    },
    {
      "cell_type": "code",
      "source": [
        "fruits=[\"apple\",\"banana\",\"orange\",\"grapes\"]\n",
        "for fruit in fruits:\n",
        "  print(f\"I like{fruit}\")"
      ],
      "metadata": {
        "colab": {
          "base_uri": "https://localhost:8080/"
        },
        "id": "amfd9tq2UVrk",
        "outputId": "5bd67ea9-9ef9-4e9f-a506-7f39b6dd30cd"
      },
      "execution_count": null,
      "outputs": [
        {
          "output_type": "stream",
          "name": "stdout",
          "text": [
            "I likeapple\n",
            "I likebanana\n",
            "I likeorange\n",
            "I likegrapes\n"
          ]
        }
      ]
    },
    {
      "cell_type": "code",
      "source": [
        "for i,fruit in enumerate(fruits):\n",
        "    print(f\"{i+1}.{fruit}\")"
      ],
      "metadata": {
        "colab": {
          "base_uri": "https://localhost:8080/"
        },
        "id": "Cle02HrFWvEE",
        "outputId": "e6f1c33f-8ba2-4fc0-cadc-018a5f97e96a"
      },
      "execution_count": null,
      "outputs": [
        {
          "output_type": "stream",
          "name": "stdout",
          "text": [
            "1.apple\n",
            "2.banana\n",
            "3.orange\n",
            "4.grapes\n"
          ]
        }
      ]
    },
    {
      "cell_type": "markdown",
      "source": [
        "#Loop with range"
      ],
      "metadata": {
        "id": "kbjBrVh-XhsM"
      }
    },
    {
      "cell_type": "code",
      "source": [
        "for day in range(1,8):\n",
        "    print(f\"Day{day}of the week\")"
      ],
      "metadata": {
        "colab": {
          "base_uri": "https://localhost:8080/"
        },
        "id": "tjo8dmUKXpKr",
        "outputId": "aff664ed-fac8-4b55-a790-bc20c5da046b"
      },
      "execution_count": null,
      "outputs": [
        {
          "output_type": "stream",
          "name": "stdout",
          "text": [
            "Day1of the week\n",
            "Day2of the week\n",
            "Day3of the week\n",
            "Day4of the week\n",
            "Day5of the week\n",
            "Day6of the week\n",
            "Day7of the week\n"
          ]
        }
      ]
    },
    {
      "cell_type": "markdown",
      "source": [
        "#Nested loops-Creating multiplication table"
      ],
      "metadata": {
        "id": "b_2pTnd9D1P8"
      }
    },
    {
      "cell_type": "code",
      "source": [
        "print(\"Multiplication Table:\")\n",
        "for i in range(1,6):\n",
        "  for j in range(1,6):\n",
        "    product=i*j\n",
        "    print(f\"{i}x{j}={product:2d}\",end=\" \")\n",
        "    print()"
      ],
      "metadata": {
        "colab": {
          "base_uri": "https://localhost:8080/"
        },
        "id": "KTZ_HmwqYfEj",
        "outputId": "f834657a-6f86-4938-e501-60bf964b06e5"
      },
      "execution_count": null,
      "outputs": [
        {
          "output_type": "stream",
          "name": "stdout",
          "text": [
            "Multiplication Table:\n",
            "1x1= 1 \n",
            "1x2= 2 \n",
            "1x3= 3 \n",
            "1x4= 4 \n",
            "1x5= 5 \n",
            "2x1= 2 \n",
            "2x2= 4 \n",
            "2x3= 6 \n",
            "2x4= 8 \n",
            "2x5=10 \n",
            "3x1= 3 \n",
            "3x2= 6 \n",
            "3x3= 9 \n",
            "3x4=12 \n",
            "3x5=15 \n",
            "4x1= 4 \n",
            "4x2= 8 \n",
            "4x3=12 \n",
            "4x4=16 \n",
            "4x5=20 \n",
            "5x1= 5 \n",
            "5x2=10 \n",
            "5x3=15 \n",
            "5x4=20 \n",
            "5x5=25 \n"
          ]
        }
      ]
    },
    {
      "cell_type": "markdown",
      "source": [
        "#Processing data with loops"
      ],
      "metadata": {
        "id": "3cWkBRh1ZJAD"
      }
    },
    {
      "cell_type": "code",
      "source": [
        "sales_data=[\n",
        "{\"product\":\"Laptop\",\"price\":999,\"quantity\":5},\n",
        "{\"product\":\"phone\",\"price\":599,\"quantity\":10},\n",
        "{\"product\":\"tablet\",\"price\":399,\"quantity\":8},\n",
        "]\n",
        "total_revenue=0\n",
        "\n",
        "for item in sales_data:\n",
        "  item_revenue=item[\"price\"]*item[\"quantity\"]\n",
        "  total_revenue+=item_revenue\n",
        "  print(f\"{item['product']}:${item_revenue}\")\n",
        "\n",
        "print(f\"Total Revenue:${total_revenue}\")"
      ],
      "metadata": {
        "colab": {
          "base_uri": "https://localhost:8080/"
        },
        "id": "AutiO8wWZOzM",
        "outputId": "a18e5077-8898-4498-b19d-40433b057883"
      },
      "execution_count": null,
      "outputs": [
        {
          "output_type": "stream",
          "name": "stdout",
          "text": [
            "Laptop:$4995\n",
            "phone:$5990\n",
            "tablet:$3192\n",
            "Total Revenue:$14177\n"
          ]
        }
      ]
    },
    {
      "cell_type": "markdown",
      "source": [
        "#Loops-While Loop"
      ],
      "metadata": {
        "id": "dBjxNlJRs87w"
      }
    },
    {
      "cell_type": "markdown",
      "source": [
        "#while loop for user input simulation"
      ],
      "metadata": {
        "id": "_xW1qd5IuFtu"
      }
    },
    {
      "cell_type": "code",
      "source": [
        "def simple_guessing_game():\n",
        "  target=7\n",
        "  guess=0\n",
        "  attempts=0\n",
        "  print(\"Guess the number between 1 and 10!\")\n",
        "\n",
        "  while guess !=target:\n",
        "    import random\n",
        "    guess=random.randint(1,10)\n",
        "    attempts +=1\n",
        "\n",
        "    if guess<target:\n",
        "      print(f\"Guess {attempts}:{guess} - Too low!\")\n",
        "    elif guess>target:\n",
        "      print(f\"Guess {attempts}:{guess} - Too high!\")\n",
        "    else:\n",
        "      print(f\"Guess {attempts}:{guess} - correct!\")\n",
        "\n",
        "    if attempts>10:\n",
        "      print(\"Max attempts reached!\")\n",
        "      break\n",
        "\n",
        "    print(f\"Game finished in {attempts} attempts\")\n",
        "\n",
        "simple_guessing_game( )\n",
        "\n",
        "\n",
        "\n"
      ],
      "metadata": {
        "colab": {
          "base_uri": "https://localhost:8080/"
        },
        "id": "2vGVTqK1uWx4",
        "outputId": "e56cab9e-2eca-4964-e669-246704b50ca5"
      },
      "execution_count": null,
      "outputs": [
        {
          "output_type": "stream",
          "name": "stdout",
          "text": [
            "Guess the number between 1 and 10!\n",
            "Guess 1:8 - Too high!\n",
            "Game finished in 1 attempts\n",
            "Guess 2:2 - Too low!\n",
            "Game finished in 2 attempts\n",
            "Guess 3:4 - Too low!\n",
            "Game finished in 3 attempts\n",
            "Guess 4:3 - Too low!\n",
            "Game finished in 4 attempts\n",
            "Guess 5:4 - Too low!\n",
            "Game finished in 5 attempts\n",
            "Guess 6:4 - Too low!\n",
            "Game finished in 6 attempts\n",
            "Guess 7:7 - correct!\n",
            "Game finished in 7 attempts\n"
          ]
        }
      ]
    },
    {
      "cell_type": "markdown",
      "source": [
        "#While loop for processing"
      ],
      "metadata": {
        "id": "fLqzBs_fytHg"
      }
    },
    {
      "cell_type": "code",
      "source": [
        "def process_queue():\n",
        "  queue=[\"Task 1\",\"Task 2\",\"Task 3\",\"Task 4\"]\n",
        "\n",
        "  while queue:\n",
        "    current_task=queue.pop(0)\n",
        "    print(f\"Processing: {current_task}\")\n",
        "\n",
        "    print(f\"Remaining tasks:{len(queue)}\")\n",
        "\n",
        "  print(\"All tasks completed!\")\n",
        "\n",
        "process_queue()"
      ],
      "metadata": {
        "colab": {
          "base_uri": "https://localhost:8080/"
        },
        "id": "yfSrDR_Dy4wA",
        "outputId": "72a42203-bdea-4bc8-bbfe-02474fd6dd61"
      },
      "execution_count": null,
      "outputs": [
        {
          "output_type": "stream",
          "name": "stdout",
          "text": [
            "Processing: Task 1\n",
            "Remaining tasks:3\n",
            "Processing: Task 2\n",
            "Remaining tasks:2\n",
            "Processing: Task 3\n",
            "Remaining tasks:1\n",
            "Processing: Task 4\n",
            "Remaining tasks:0\n",
            "All tasks completed!\n"
          ]
        }
      ]
    },
    {
      "cell_type": "markdown",
      "source": [
        "#Function Basics\n"
      ],
      "metadata": {
        "id": "imYKh0b31JIY"
      }
    },
    {
      "cell_type": "markdown",
      "source": [
        "#Basic function definition"
      ],
      "metadata": {
        "id": "auIBe_mM1N8_"
      }
    },
    {
      "cell_type": "code",
      "source": [
        "def greet(name):\n",
        "  return f\"Hello,{name}!\"\n"
      ],
      "metadata": {
        "id": "tqCLB6471S4Q"
      },
      "execution_count": null,
      "outputs": []
    },
    {
      "cell_type": "markdown",
      "source": [
        "#Function call"
      ],
      "metadata": {
        "id": "wQQQbSNP1dHI"
      }
    },
    {
      "cell_type": "code",
      "source": [
        "message=greet(\"Python Programmer\")\n",
        "print(message)"
      ],
      "metadata": {
        "colab": {
          "base_uri": "https://localhost:8080/"
        },
        "id": "tyYJf7eC1hJA",
        "outputId": "ccc3c8de-103a-4082-f150-15578241055c"
      },
      "execution_count": null,
      "outputs": [
        {
          "output_type": "stream",
          "name": "stdout",
          "text": [
            "Hello,Python Programmer!\n"
          ]
        }
      ]
    },
    {
      "cell_type": "markdown",
      "source": [
        "#Function with multiple parameters"
      ],
      "metadata": {
        "id": "il-CzurP2GuA"
      }
    },
    {
      "cell_type": "code",
      "source": [
        "def calculate_area(length,width):\n",
        "  area=length*width\n",
        "  return area"
      ],
      "metadata": {
        "id": "g3-zKxa_2NdP"
      },
      "execution_count": null,
      "outputs": []
    },
    {
      "cell_type": "markdown",
      "source": [
        "#Test the function"
      ],
      "metadata": {
        "id": "OTOZThZZ2bhv"
      }
    },
    {
      "cell_type": "code",
      "source": [
        "room_area=calculate_area(12,10)\n",
        "print(f\"Room area:{room_area} square feet\")"
      ],
      "metadata": {
        "colab": {
          "base_uri": "https://localhost:8080/"
        },
        "id": "tji3xa1s2nzH",
        "outputId": "d9db578a-620a-49e9-f492-b8c603e848b9"
      },
      "execution_count": null,
      "outputs": [
        {
          "output_type": "stream",
          "name": "stdout",
          "text": [
            "Room area:120 square feet\n"
          ]
        }
      ]
    },
    {
      "cell_type": "markdown",
      "source": [
        "#Function with default parameters"
      ],
      "metadata": {
        "id": "If9eSY9Y2-Lv"
      }
    },
    {
      "cell_type": "code",
      "source": [
        "def create_user_profile(name,age=18,location=\"Unknown\",active=True):\n",
        "  return {\n",
        "      \"name\":name,\n",
        "      \"age\":age,\n",
        "      \"location\":location,\n",
        "      \"active\":active\n",
        "}"
      ],
      "metadata": {
        "id": "_joN_kIK3KxX"
      },
      "execution_count": null,
      "outputs": []
    },
    {
      "cell_type": "markdown",
      "source": [
        "#Different ways to call"
      ],
      "metadata": {
        "id": "PzH7Y9MV4PUA"
      }
    },
    {
      "cell_type": "code",
      "source": [
        "profile1=create_user_profile(\"Alice\")\n",
        "profile2=create_user_profile(\"Bob\")\n",
        "profile3=create_user_profile(\"Charlie\",location=\"New York\",age=30)\n",
        "\n",
        "print(f\"profile 1: {profile1}\")\n",
        "print(f\"profile 2: {profile2}\")\n",
        "print(f\"profile 3: {profile3}\")\n",
        "\n"
      ],
      "metadata": {
        "colab": {
          "base_uri": "https://localhost:8080/"
        },
        "id": "j4vlsUuR4U3O",
        "outputId": "fb04c745-a9c9-4709-aa83-5b9ded2a2524"
      },
      "execution_count": null,
      "outputs": [
        {
          "output_type": "stream",
          "name": "stdout",
          "text": [
            "profile 1: {'name': 'Alice', 'age': 18, 'location': 'Unknown', 'active': True}\n",
            "profile 2: {'name': 'Bob', 'age': 18, 'location': 'Unknown', 'active': True}\n",
            "profile 3: {'name': 'Charlie', 'age': 30, 'location': 'New York', 'active': True}\n"
          ]
        }
      ]
    },
    {
      "cell_type": "markdown",
      "source": [
        "#Advanced function concepts"
      ],
      "metadata": {
        "id": "RaMVDnP26UFv"
      }
    },
    {
      "cell_type": "markdown",
      "source": [
        "#Function returning multiple values"
      ],
      "metadata": {
        "id": "BchwaEse7KsA"
      }
    },
    {
      "cell_type": "code",
      "source": [
        "def analyze_text(text):\n",
        "  words =text.split()\n",
        "  word_count=len(words)\n",
        "  char_count=len(text)\n",
        "  char_count_no_spaces=len(text.replace(\"\",\"\"))\n",
        "\n",
        "  return word_count,char_count,char_count_no_spaces"
      ],
      "metadata": {
        "id": "SNBYZl7f7beP"
      },
      "execution_count": null,
      "outputs": []
    },
    {
      "cell_type": "markdown",
      "source": [
        "#Test with sample text\n"
      ],
      "metadata": {
        "id": "krq_q3PT8WoX"
      }
    },
    {
      "cell_type": "code",
      "source": [
        "sample_text=\"Python is a powerful programming language\"\n",
        "\n",
        "words,chars,char_no_space=analyze_text(sample_text)\n",
        "\n",
        "print(f\"Text: '{sample_text}'\")\n",
        "print(f\"Word count: {words}\")\n",
        "print(f\"Character count: {chars}\")\n",
        "print(f\"Characters (no spaces): {char_no_space}\")"
      ],
      "metadata": {
        "colab": {
          "base_uri": "https://localhost:8080/"
        },
        "id": "LhdSfsDt8eII",
        "outputId": "10ba42f0-a081-4d20-9636-848f2d421164"
      },
      "execution_count": null,
      "outputs": [
        {
          "output_type": "stream",
          "name": "stdout",
          "text": [
            "Text: 'Python is a powerful programming language'\n",
            "Word count: 6\n",
            "Character count: 41\n",
            "Characters (no spaces): 41\n"
          ]
        }
      ]
    },
    {
      "cell_type": "markdown",
      "source": [
        "#Variable-length agruments"
      ],
      "metadata": {
        "id": "Yad-njLF_A0f"
      }
    },
    {
      "cell_type": "code",
      "source": [
        "def calculate_avarage(*numbers):\n",
        "  if not numbers:\n",
        "    return 0\n",
        "\n",
        "  return sum(numbers)/len(numbers)\n"
      ],
      "metadata": {
        "id": "OJUlaskk_G0H"
      },
      "execution_count": null,
      "outputs": []
    },
    {
      "cell_type": "markdown",
      "source": [
        "#Test with different numbers of arguments"
      ],
      "metadata": {
        "id": "l9xpqj7s_myx"
      }
    },
    {
      "cell_type": "code",
      "source": [
        "avg1=calculate_avarage(10,20,30)\n",
        "avg2=calculate_avarage(5,15,25,35,45)\n",
        "avg3=calculate_avarage(100)\n",
        "\n",
        "print(f\"Average of 10,20,30: {avg1}\")\n",
        "print(f\"Average of 5,15,25,35,45: {avg2}\")\n",
        "print(f\"Average of 100: {avg3}\")"
      ],
      "metadata": {
        "colab": {
          "base_uri": "https://localhost:8080/"
        },
        "id": "2WyR2Rk4_rt_",
        "outputId": "fa755689-3aa9-4a32-e2da-491b4e8e66c8"
      },
      "execution_count": null,
      "outputs": [
        {
          "output_type": "stream",
          "name": "stdout",
          "text": [
            "Average of 10,20,30: 20.0\n",
            "Average of 5,15,25,35,45: 25.0\n",
            "Average of 100: 100.0\n"
          ]
        }
      ]
    },
    {
      "cell_type": "markdown",
      "source": [
        "#Keyword arguments"
      ],
      "metadata": {
        "id": "NQiPTVCzAyww"
      }
    },
    {
      "cell_type": "code",
      "source": [
        "def create_report(**data):\n",
        "  print(\"=== REPORT ===\")\n",
        "\n",
        "  for key,value in data.items():\n",
        "    print(f\"{key.replace('_',' ').title()}:{value}\")\n",
        "\n",
        "  print(\"===============\")\n",
        "\n",
        "create_report(\n",
        "   title=\"Monthly Sales Report\",\n",
        "   data=\"2024-01-01\",\n",
        "   total_sales=15000,\n",
        "   new_customers=25,\n",
        "   returning_customers=150\n",
        ")"
      ],
      "metadata": {
        "colab": {
          "base_uri": "https://localhost:8080/"
        },
        "id": "4KWCFZlQA2BQ",
        "outputId": "401f0509-8522-4962-9c8d-5d12bc75f5c1"
      },
      "execution_count": null,
      "outputs": [
        {
          "output_type": "stream",
          "name": "stdout",
          "text": [
            "=== REPORT ===\n",
            "Title:Monthly Sales Report\n",
            "Data:2024-01-01\n",
            "Total Sales:15000\n",
            "New Customers:25\n",
            "Returning Customers:150\n",
            "===============\n"
          ]
        }
      ]
    },
    {
      "cell_type": "markdown",
      "source": [
        "#Lambda Functions"
      ],
      "metadata": {
        "id": "hhqTPkRZFUUm"
      }
    },
    {
      "cell_type": "markdown",
      "source": [
        "#Lambda functions(anonymous functions)\n"
      ],
      "metadata": {
        "id": "R2gE381-FZF3"
      }
    },
    {
      "cell_type": "markdown",
      "source": [
        "#Regular function"
      ],
      "metadata": {
        "id": "fWiwkWFIFhP3"
      }
    },
    {
      "cell_type": "code",
      "source": [
        "def square(X):\n",
        "  return X**2"
      ],
      "metadata": {
        "id": "ckkf3T_WaCda"
      },
      "execution_count": null,
      "outputs": []
    },
    {
      "cell_type": "markdown",
      "source": [
        "#Lambda equivalent"
      ],
      "metadata": {
        "id": "nlbuQQo6Fyi3"
      }
    },
    {
      "cell_type": "code",
      "source": [
        "square_lambda=lambda x: x**2\n",
        "print(f\"Regular function: {square(5)}\")\n",
        "print(f\"Lambda function: {square_lambda(5)}\")"
      ],
      "metadata": {
        "colab": {
          "base_uri": "https://localhost:8080/"
        },
        "id": "szrAaGDnF2Mu",
        "outputId": "e46b936e-ad4a-4271-f7ae-a84bb62e5b5c"
      },
      "execution_count": null,
      "outputs": [
        {
          "output_type": "stream",
          "name": "stdout",
          "text": [
            "Regular function: 25\n",
            "Lambda function: 25\n"
          ]
        }
      ]
    },
    {
      "cell_type": "markdown",
      "source": [
        "#Lambda with multiple arguments"
      ],
      "metadata": {
        "id": "cPjm14icG08P"
      }
    },
    {
      "cell_type": "code",
      "source": [
        "multiply=lambda x,y:x*y\n",
        "print(f\"multiply:{multiply(3,4)}\")"
      ],
      "metadata": {
        "colab": {
          "base_uri": "https://localhost:8080/"
        },
        "id": "-0_0eO3MG8E3",
        "outputId": "84b32a02-d784-4eb5-b249-31c22f769c72"
      },
      "execution_count": null,
      "outputs": [
        {
          "output_type": "stream",
          "name": "stdout",
          "text": [
            "multiply:12\n"
          ]
        }
      ]
    },
    {
      "cell_type": "markdown",
      "source": [
        "#Lambda with bulit-in functions"
      ],
      "metadata": {
        "id": "IqAAqdx4HMjX"
      }
    },
    {
      "cell_type": "code",
      "source": [
        "numbers=[1,2,3,4,5]\n",
        "squared=list(map(lambda x: x**2,numbers))\n",
        "print(f\"Squared numbers:{squared}\")"
      ],
      "metadata": {
        "colab": {
          "base_uri": "https://localhost:8080/"
        },
        "id": "C23TtWt1HRTG",
        "outputId": "5623121f-6565-47f3-c7e8-c58c2eb9762d"
      },
      "execution_count": null,
      "outputs": [
        {
          "output_type": "stream",
          "name": "stdout",
          "text": [
            "Squared numbers:[1, 4, 9, 16, 25]\n"
          ]
        }
      ]
    },
    {
      "cell_type": "markdown",
      "source": [
        "#Filtering with lambda"
      ],
      "metadata": {
        "id": "uMdDpB3VHuYP"
      }
    },
    {
      "cell_type": "code",
      "source": [
        "ages=[16,21,35,12,45,18,67]\n",
        "adults=list(filter(lambda age: age>=18, ages))\n",
        "print(f\"adult ages: {adults}\")"
      ],
      "metadata": {
        "colab": {
          "base_uri": "https://localhost:8080/"
        },
        "id": "7cB__-KgH1XW",
        "outputId": "a14fa610-c377-48f0-9720-c45b617ae33d"
      },
      "execution_count": null,
      "outputs": [
        {
          "output_type": "stream",
          "name": "stdout",
          "text": [
            "adult ages: [21, 35, 45, 18, 67]\n"
          ]
        }
      ]
    },
    {
      "cell_type": "markdown",
      "source": [
        "#sorting with lambda"
      ],
      "metadata": {
        "id": "-8C7yivSbTkj"
      }
    },
    {
      "cell_type": "code",
      "source": [
        "people=[\n",
        "    {\"name\":\"Alice\",\"age\":30},\n",
        "    {\"name\":\"Bob\",\"age\":25},\n",
        "    {\"name\":\"charlie\",\"age\":35}\n",
        "]\n",
        "sorted_people=sorted(people,key=lambda person:person[\"age\"])\n",
        "print(\"people sorted by age:\")\n",
        "\n",
        "for person in sorted_people:\n",
        "  print(f\"{person['name']}:{person['age']}\")"
      ],
      "metadata": {
        "id": "zKlrjIR1I0Bd",
        "colab": {
          "base_uri": "https://localhost:8080/"
        },
        "outputId": "89420ac3-4eb9-4d85-86ab-465fdb588b15"
      },
      "execution_count": null,
      "outputs": [
        {
          "output_type": "stream",
          "name": "stdout",
          "text": [
            "people sorted by age:\n",
            "Bob:25\n",
            "Alice:30\n",
            "charlie:35\n"
          ]
        }
      ]
    }
  ]
}